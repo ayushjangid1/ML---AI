{
 "cells": [
  {
   "cell_type": "code",
   "execution_count": 1,
   "metadata": {},
   "outputs": [],
   "source": [
    "import cv2\n",
    "hog=cv2.HOGDescriptor()"
   ]
  },
  {
   "cell_type": "code",
   "execution_count": 2,
   "metadata": {},
   "outputs": [],
   "source": [
    "hog.setSVMDetector(cv2.HOGDescriptor_getDefaultPeopleDetector())\n"
   ]
  },
  {
   "cell_type": "code",
   "execution_count": 3,
   "metadata": {},
   "outputs": [],
   "source": [
    "vid=cv2.VideoCapture(0)\n",
    "while True:\n",
    "    flag,img=vid.read()\n",
    "    if flag:\n",
    "        img_gray=cv2.cvtColor(img,cv2.COLOR_BGR2GRAY)\n",
    "        bounding_boxes,weights=hog.detectMultiScale(img_gray,winStride=(10,10))\n",
    "        #for detect the whole person and draw yhe rectangle on it body\n",
    "        for x,y,w,h in bounding_boxes:\n",
    "            cv2.rectangle(img,pt1=(x,y),pt2=(x+w,y+h),color=(0,0,255),thickness=4)\n",
    "        #sleep(0.1)\n",
    "        cv2.imshow('Preview',img)\n",
    "        key=cv2.waitKey(1)\n",
    "        if key==ord('q'):\n",
    "            break\n",
    "cv2.destroyAllWindows()\n",
    "vid.release()"
   ]
  },
  {
   "cell_type": "code",
   "execution_count": 4,
   "metadata": {},
   "outputs": [],
   "source": [
    "import nltk\n",
    "import pyttsx3\n",
    "import speech_recognition as sp"
   ]
  },
  {
   "cell_type": "code",
   "execution_count": 15,
   "metadata": {},
   "outputs": [],
   "source": [
    "spEng=pyttsx3.init()\n",
    "# spEng.setProperty('rate',5)\n",
    "spEng.say('Hello World')\n",
    "spEng.runAndWait()"
   ]
  },
  {
   "cell_type": "code",
   "execution_count": 6,
   "metadata": {},
   "outputs": [
    {
     "name": "stdout",
     "output_type": "stream",
     "text": [
      "Say:"
     ]
    },
    {
     "ename": "NameError",
     "evalue": "name 'recognizer' is not defined",
     "output_type": "error",
     "traceback": [
      "\u001b[1;31m---------------------------------------------------------------------------\u001b[0m",
      "\u001b[1;31mNameError\u001b[0m                                 Traceback (most recent call last)",
      "Cell \u001b[1;32mIn[6], line 3\u001b[0m\n\u001b[0;32m      1\u001b[0m \u001b[39mwith\u001b[39;00m sp\u001b[39m.\u001b[39mMicrophone() \u001b[39mas\u001b[39;00m mic:\n\u001b[0;32m      2\u001b[0m     \u001b[39mprint\u001b[39m(\u001b[39m'\u001b[39m\u001b[39mSay:\u001b[39m\u001b[39m'\u001b[39m,end\u001b[39m=\u001b[39m\u001b[39m'\u001b[39m\u001b[39m'\u001b[39m)\n\u001b[1;32m----> 3\u001b[0m     audio\u001b[39m=\u001b[39mrecognizer\u001b[39m.\u001b[39mlisten(mic)\n\u001b[0;32m      4\u001b[0m     \u001b[39mtry\u001b[39;00m:\n\u001b[0;32m      5\u001b[0m         text\u001b[39m=\u001b[39mrecognizer\u001b[39m.\u001b[39mrecognize_google(audio)\n",
      "\u001b[1;31mNameError\u001b[0m: name 'recognizer' is not defined"
     ]
    }
   ],
   "source": [
    "with sp.Microphone() as mic:\n",
    "    print('Say:',end='')\n",
    "    audio=recognizer.listen(mic)\n",
    "    try:\n",
    "        text=recognizer.recognize_google(audio)\n",
    "        print(text)\n",
    "        spEng.say(text)\n",
    "        spEng.runAndWait()\n",
    "    except Exception as err:\n",
    "        print('could not recognise')"
   ]
  },
  {
   "cell_type": "code",
   "execution_count": null,
   "metadata": {},
   "outputs": [],
   "source": []
  }
 ],
 "metadata": {
  "kernelspec": {
   "display_name": "Python 3",
   "language": "python",
   "name": "python3"
  },
  "language_info": {
   "codemirror_mode": {
    "name": "ipython",
    "version": 3
   },
   "file_extension": ".py",
   "mimetype": "text/x-python",
   "name": "python",
   "nbconvert_exporter": "python",
   "pygments_lexer": "ipython3",
   "version": "3.10.0"
  },
  "orig_nbformat": 4
 },
 "nbformat": 4,
 "nbformat_minor": 2
}
