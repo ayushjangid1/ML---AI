{
 "cells": [
  {
   "cell_type": "code",
   "execution_count": 2,
   "metadata": {},
   "outputs": [],
   "source": [
    "import cv2\n",
    "import matplotlib.pyplot as plt"
   ]
  },
  {
   "cell_type": "code",
   "execution_count": 4,
   "metadata": {},
   "outputs": [
    {
     "ename": "error",
     "evalue": "OpenCV(4.7.0) :-1: error: (-5:Bad argument) in function 'rectangle'\n> Overload resolution failed:\n>  - rectangle() missing required argument 'pt1' (pos 2)\n>  - rectangle() missing required argument 'pt1' (pos 2)\n>  - rectangle() missing required argument 'rec' (pos 2)\n>  - rectangle() missing required argument 'rec' (pos 2)\n",
     "output_type": "error",
     "traceback": [
      "\u001b[1;31m---------------------------------------------------------------------------\u001b[0m",
      "\u001b[1;31merror\u001b[0m                                     Traceback (most recent call last)",
      "Cell \u001b[1;32mIn[4], line 31\u001b[0m\n\u001b[0;32m     29\u001b[0m         xs,ys,ws,hs \u001b[39m=\u001b[39m smiles[\u001b[39m0\u001b[39m]\n\u001b[0;32m     30\u001b[0m         \u001b[39mfor\u001b[39;00m xs,ys,ws,hs \u001b[39min\u001b[39;00m smiles:\n\u001b[1;32m---> 31\u001b[0m             cv2\u001b[39m.\u001b[39;49mrectangle(img,p1\u001b[39m=\u001b[39;49m(xs,ys),p2\u001b[39m=\u001b[39;49m(xs\u001b[39m+\u001b[39;49mws,ys\u001b[39m+\u001b[39;49mhs),color\u001b[39m=\u001b[39;49m(\u001b[39m0\u001b[39;49m,\u001b[39m255\u001b[39;49m,\u001b[39m0\u001b[39;49m),thickness\u001b[39m=\u001b[39;49m\u001b[39m2\u001b[39;49m)\n\u001b[0;32m     34\u001b[0m     cv2\u001b[39m.\u001b[39mrectangle(img, pt1\u001b[39m=\u001b[39m(x1,y1),pt2\u001b[39m=\u001b[39m(x1\u001b[39m+\u001b[39mw,y1\u001b[39m+\u001b[39mh),color\u001b[39m=\u001b[39m(\u001b[39m0\u001b[39m,\u001b[39m0\u001b[39m,\u001b[39m255\u001b[39m), thickness\u001b[39m=\u001b[39m\u001b[39m4\u001b[39m)\n\u001b[0;32m     35\u001b[0m cv2\u001b[39m.\u001b[39mimshow(\u001b[39m'\u001b[39m\u001b[39mPreview\u001b[39m\u001b[39m'\u001b[39m,img)\n",
      "\u001b[1;31merror\u001b[0m: OpenCV(4.7.0) :-1: error: (-5:Bad argument) in function 'rectangle'\n> Overload resolution failed:\n>  - rectangle() missing required argument 'pt1' (pos 2)\n>  - rectangle() missing required argument 'pt1' (pos 2)\n>  - rectangle() missing required argument 'rec' (pos 2)\n>  - rectangle() missing required argument 'rec' (pos 2)\n"
     ]
    },
    {
     "ename": "",
     "evalue": "",
     "output_type": "error",
     "traceback": [
      "\u001b[1;31mThe Kernel crashed while executing code in the the current cell or a previous cell. Please review the code in the cell(s) to identify a possible cause of the failure. Click <a href='https://aka.ms/vscodeJupyterKernelCrash'>here</a> for more info. View Jupyter <a href='command:jupyter.viewOutput'>log</a> for further details."
     ]
    }
   ],
   "source": [
    "import cv2\n",
    "# for face recognition\n",
    "fd = cv2.CascadeClassifier(cv2.data.haarcascades + 'haarcascade_frontalface_default.xml')\n",
    "\n",
    "# for smile detection\n",
    "sd = cv2.CascadeClassifier(cv2.data.haarcascades + 'haarcascade_smile.xml')\n",
    "\n",
    "vid = cv2.VideoCapture(0)\n",
    "\n",
    "while True:\n",
    "    flag, img = vid.read()\n",
    "    if flag:\n",
    "        img_gray = cv2.cvtColor(img,cv2.COLOR_BGR2GRAY)\n",
    "        x1, y1, w, h = (100, 100 , 200, 300)\n",
    "\n",
    "        faces = fd.detectMultiScale(\n",
    "            img_gray,\n",
    "            scaleFactor = 1.1,\n",
    "            minNeighbors = 5,\n",
    "            minSize = (180,180)\n",
    "            )\n",
    "\n",
    "        for x1,y1,w,h in faces:\n",
    "            face = img[y1: y1+h , x1:x1+w].copy()\n",
    "\n",
    "            smiles = sd.detectMultiScale(face,1.1,5)\n",
    "\n",
    "            if len(smiles) == 1:\n",
    "                xs,ys,ws,hs = smiles[0]\n",
    "                cv2.rectangle(img,p1=(xs,ys),p2=(xs+ws,ys+hs),color=(0,255,0),thickness=2)\n",
    "\n",
    "\n",
    "            cv2.rectangle(img, pt1=(x1,y1),pt2=(x1+w,y1+h),color=(0,0,255), thickness=4)\n",
    "        cv2.imshow('Preview',img)\n",
    "        key = cv2.waitKey(1)\n",
    "        if key == ord('x'):\n",
    "            break\n",
    "    else:\n",
    "        break\n",
    "    # sleep(0.1)\n",
    "vid.release()\n",
    "cv2.destroyAllWindows()"
   ]
  },
  {
   "cell_type": "code",
   "execution_count": 4,
   "metadata": {},
   "outputs": [],
   "source": [
    "img1 = cv2.imread('face1.png')\n",
    "cv2.imshow('face1.png',img1)\n",
    "cv2.waitKey(1000)\n",
    "cv2.destroyAllWindows()"
   ]
  },
  {
   "cell_type": "code",
   "execution_count": null,
   "metadata": {},
   "outputs": [],
   "source": []
  }
 ],
 "metadata": {
  "kernelspec": {
   "display_name": "Python 3",
   "language": "python",
   "name": "python3"
  },
  "language_info": {
   "codemirror_mode": {
    "name": "ipython",
    "version": 3
   },
   "file_extension": ".py",
   "mimetype": "text/x-python",
   "name": "python",
   "nbconvert_exporter": "python",
   "pygments_lexer": "ipython3",
   "version": "3.10.0"
  },
  "orig_nbformat": 4
 },
 "nbformat": 4,
 "nbformat_minor": 2
}
